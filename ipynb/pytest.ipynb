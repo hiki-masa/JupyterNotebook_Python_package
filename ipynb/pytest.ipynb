{
 "cells": [
  {
   "cell_type": "markdown",
   "id": "e17df2ff",
   "metadata": {},
   "source": [
    "# Pytest"
   ]
  },
  {
   "cell_type": "code",
   "execution_count": 1,
   "id": "0524dd04",
   "metadata": {},
   "outputs": [],
   "source": [
    "import pytest"
   ]
  },
  {
   "cell_type": "markdown",
   "id": "9c45db79",
   "metadata": {},
   "source": [
    "## テスト時の基本ディレクトリ構造\n",
    "```\n",
    ".\n",
    "├── src\n",
    "│   ├── code1.py\n",
    "│   └── code2.py\n",
    "└── test\n",
    "     ├── __init__.py\n",
    "     ├── test_code1.py\n",
    "     └── test_code2.py\n",
    "```"
   ]
  },
  {
   "cell_type": "markdown",
   "id": "5263e2fc",
   "metadata": {},
   "source": [
    "## テストの実行方法\n",
    "testディレクトリ内にてテストスクリプトを作成し，pytestコマンドを実行することで，対象のテストスクリプトを実行することが出来る．"
   ]
  },
  {
   "cell_type": "code",
   "execution_count": 2,
   "id": "c3dd5a71",
   "metadata": {},
   "outputs": [
    {
     "name": "stdout",
     "output_type": "stream",
     "text": [
      "\u001b[1m============================= test session starts ==============================\u001b[0m\r\n",
      "platform linux -- Python 3.10.6, pytest-7.2.0, pluggy-1.0.0\r\n",
      "rootdir: /app\r\n",
      "plugins: anyio-3.6.2\r\n",
      "\u001b[1mcollecting ... \u001b[0m\u001b[1m\r",
      "collected 4 items                                                              \u001b[0m\r\n",
      "\r\n",
      "../pytest/test/test_operations_int.py \u001b[32m.\u001b[0m\u001b[32m.\u001b[0m\u001b[32m.\u001b[0m\u001b[32m.\u001b[0m\u001b[32m                               [100%]\u001b[0m\r\n",
      "\r\n",
      "\u001b[32m============================== \u001b[32m\u001b[1m4 passed\u001b[0m\u001b[32m in 0.01s\u001b[0m\u001b[32m ===============================\u001b[0m\r\n"
     ]
    }
   ],
   "source": [
    "!pytest ../pytest/test/test_operations_int.py"
   ]
  },
  {
   "cell_type": "markdown",
   "id": "7151ccae",
   "metadata": {},
   "source": [
    "テストスクリプトが複数存在する場合，ディレクトリを選択することでディレクトリ内のテストスクリプトすべてを実行できる．\n",
    "```\n",
    "pytest test_script_directory\n",
    "```"
   ]
  },
  {
   "cell_type": "code",
   "execution_count": 3,
   "id": "8e985877",
   "metadata": {},
   "outputs": [
    {
     "name": "stdout",
     "output_type": "stream",
     "text": [
      "\u001b[1m============================= test session starts ==============================\u001b[0m\n",
      "platform linux -- Python 3.10.6, pytest-7.2.0, pluggy-1.0.0\n",
      "rootdir: /app\n",
      "plugins: anyio-3.6.2\n",
      "collected 9 items                                                              \u001b[0m\n",
      "\n",
      "../pytest/test/test_operations_float.py \u001b[32m.\u001b[0m\u001b[32m.\u001b[0m\u001b[32m.\u001b[0m\u001b[32m                              [ 33%]\u001b[0m\n",
      "../pytest/test/test_operations_int.py \u001b[32m.\u001b[0m\u001b[32m.\u001b[0m\u001b[32m.\u001b[0m\u001b[32m.\u001b[0m\u001b[32m                               [ 77%]\u001b[0m\n",
      "../pytest/test/test_using_exception.py \u001b[32m.\u001b[0m\u001b[32m                                 [ 88%]\u001b[0m\n",
      "../pytest/test/test_using_mock.py \u001b[32m.\u001b[0m\u001b[32m                                      [100%]\u001b[0m\n",
      "\n",
      "\u001b[32m============================== \u001b[32m\u001b[1m9 passed\u001b[0m\u001b[32m in 0.05s\u001b[0m\u001b[32m ===============================\u001b[0m\n"
     ]
    }
   ],
   "source": [
    "!pytest ../pytest/test/"
   ]
  },
  {
   "cell_type": "markdown",
   "id": "0f474247",
   "metadata": {},
   "source": [
    "---\n",
    "## モック\n",
    "下記のような処理の場合、そのまま実行させてテストするのが難しい．\n",
    "- 外部システムへアクセスする<br>\n",
    "    ⇒ 外部APIやスクレイピングしてたりする場合\n",
    "- ライブラリに依存する処理<br>\n",
    "    ⇒ ライブラリの処理結果ごとのテストをしたい（戻り値、例外の種類での分岐など）\n",
    "- テスト実行の度に返す値が異なる処理を利用する<br>\n",
    "    ⇒ 現在日時、ランダム値は、実行の度に変化するのでテストの時だけ固定値にしたい\n",
    "\n",
    "\n",
    "こういう場合、モックを用いて処理を差し替えることでテストを行う．"
   ]
  },
  {
   "cell_type": "code",
   "execution_count": 4,
   "id": "e9c2d44a",
   "metadata": {},
   "outputs": [
    {
     "name": "stdout",
     "output_type": "stream",
     "text": [
      "\u001b[1m============================= test session starts ==============================\u001b[0m\r\n",
      "platform linux -- Python 3.10.6, pytest-7.2.0, pluggy-1.0.0\r\n",
      "rootdir: /app\r\n",
      "plugins: anyio-3.6.2\r\n",
      "\u001b[1mcollecting ... \u001b[0m\u001b[1m\r",
      "collected 1 item                                                               \u001b[0m\r\n",
      "\r\n",
      "../pytest/test/test_using_mock.py \u001b[32m.\u001b[0m\u001b[32m                                      [100%]\u001b[0m\r\n",
      "\r\n",
      "\u001b[32m============================== \u001b[32m\u001b[1m1 passed\u001b[0m\u001b[32m in 0.04s\u001b[0m\u001b[32m ===============================\u001b[0m\r\n"
     ]
    }
   ],
   "source": [
    "!pytest ../pytest/test/test_using_mock.py"
   ]
  },
  {
   "cell_type": "markdown",
   "id": "920732ce",
   "metadata": {},
   "source": [
    "---\n",
    "## 例外を含む場合"
   ]
  },
  {
   "cell_type": "code",
   "execution_count": 5,
   "id": "28d9fec4",
   "metadata": {},
   "outputs": [
    {
     "name": "stdout",
     "output_type": "stream",
     "text": [
      "\u001b[1m============================= test session starts ==============================\u001b[0m\r\n",
      "platform linux -- Python 3.10.6, pytest-7.2.0, pluggy-1.0.0\r\n",
      "rootdir: /app\r\n",
      "plugins: anyio-3.6.2\r\n",
      "\u001b[1mcollecting ... \u001b[0m\u001b[1m\r",
      "collected 1 item                                                               \u001b[0m\r\n",
      "\r\n",
      "../pytest/test/test_using_exception.py \u001b[32m.\u001b[0m\u001b[32m                                 [100%]\u001b[0m\r\n",
      "\r\n",
      "\u001b[32m============================== \u001b[32m\u001b[1m1 passed\u001b[0m\u001b[32m in 0.01s\u001b[0m\u001b[32m ===============================\u001b[0m\r\n"
     ]
    }
   ],
   "source": [
    "!pytest ../pytest/test/test_using_exception.py"
   ]
  }
 ],
 "metadata": {
  "kernelspec": {
   "display_name": "Python 3 (ipykernel)",
   "language": "python",
   "name": "python3"
  },
  "language_info": {
   "codemirror_mode": {
    "name": "ipython",
    "version": 3
   },
   "file_extension": ".py",
   "mimetype": "text/x-python",
   "name": "python",
   "nbconvert_exporter": "python",
   "pygments_lexer": "ipython3",
   "version": "3.10.6"
  }
 },
 "nbformat": 4,
 "nbformat_minor": 5
}
