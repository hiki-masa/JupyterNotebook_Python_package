{
 "cells": [
  {
   "cell_type": "markdown",
   "id": "5fbecc60",
   "metadata": {},
   "source": [
    "# JSON（JavaScript Object Notation）\n",
    "データフォーマットの一種<br>\n",
    "プログラミング言語の種類を問わずに使われる．"
   ]
  },
  {
   "cell_type": "markdown",
   "id": "74bc6384",
   "metadata": {},
   "source": [
    "## JSON形式\n",
    "- Key（キー）と値（バリュー）で成り立っている\n",
    "    ```\n",
    "    {\n",
    "        キー : 値\n",
    "    }\n",
    "    ```\n",
    "\n",
    "- 複数のデータを扱う場合\n",
    "    ```\n",
    "    {\n",
    "        キー1 : 値1,\n",
    "        キー2 : 値2\n",
    "    }\n",
    "    ```\n",
    "    \n",
    "- バリューの中身を配列にすることも可能\n",
    "    ```\n",
    "    {\n",
    "        キー : [値1, 値2, 値3]\n",
    "    }\n",
    "    ```\n",
    "    \n",
    "- バリューの値を階層的に表現することも可能\n",
    "    ```\n",
    "    {\n",
    "        キー : {サブキー : 値}\n",
    "    }\n",
    "    ```\n",
    "    \n",
    "### 注意点\n",
    "- 数値はそのまま\n",
    "- 文字を扱う場合は，ダブルクオート(\")\n",
    "- 空データを表現する際は，`null`\n",
    "- Boolean型は，小文字の`true/false`\n",
    "\n",
    "### 特殊記号\n",
    "`\\`を用いることで，ダブルクォーテーションなどを用いることが可能になる\n",
    "- `\\\"` : ダブルクォーテーション\n",
    "- `\\\\` : バックスラッシュ"
   ]
  },
  {
   "cell_type": "code",
   "execution_count": 1,
   "id": "de749ade",
   "metadata": {},
   "outputs": [],
   "source": [
    "import json"
   ]
  },
  {
   "cell_type": "markdown",
   "id": "603f126b",
   "metadata": {},
   "source": [
    "## Pythonの辞書をJSONのテキストデータに変換\n",
    "`json.dumps()`を用いる"
   ]
  },
  {
   "cell_type": "code",
   "execution_count": 2,
   "id": "c53f6d28",
   "metadata": {},
   "outputs": [
    {
     "name": "stdout",
     "output_type": "stream",
     "text": [
      "{\"item\": \"apple\", \"price\": 120, \"is_fruit\": true, \"state\": null}\n"
     ]
    }
   ],
   "source": [
    "# Pythonの辞書オブジェクト\n",
    "obj = {'item' : 'apple', 'price' : 120, 'is_fruit' : True, 'state' : None}\n",
    "\n",
    "# json形式に変換することで，文字列の表記やBoolean，Noneの表記が変化しているのが確認できる\n",
    "json_obj = json.dumps(obj)\n",
    "print(json_obj)"
   ]
  },
  {
   "cell_type": "code",
   "execution_count": 3,
   "id": "f0fb621e",
   "metadata": {},
   "outputs": [
    {
     "name": "stdout",
     "output_type": "stream",
     "text": [
      "修正前 :  {\"category\": \"\\u679c\\u7269\", \"item\": [\"orange\", \"apple\", \"banana\"]}\n",
      "修正後 :  {\"category\": \"果物\", \"item\": [\"orange\", \"apple\", \"banana\"]}\n"
     ]
    }
   ],
   "source": [
    "obj = {'category' : '果物', 'item' : ['orange', 'apple', 'banana']}\n",
    "\n",
    "# 日本語が含まれる場合，文字化けが発生する\n",
    "json_obj = json.dumps(obj)\n",
    "print('修正前 : ', json_obj)\n",
    "\n",
    "# 回避するためには，ensure_ascii=Falseを引数に追加する必要がある\n",
    "json_obj = json.dumps(obj, ensure_ascii=False)\n",
    "print('修正後 : ', json_obj)"
   ]
  },
  {
   "cell_type": "code",
   "execution_count": 4,
   "id": "aae0e3d0",
   "metadata": {},
   "outputs": [
    {
     "name": "stdout",
     "output_type": "stream",
     "text": [
      "{\"id\": \"ab\\\"12\"}\n"
     ]
    }
   ],
   "source": [
    "obj = {'id' : r'ab\"12'}\n",
    "\n",
    "json_obj = json.dumps(obj)\n",
    "print(json_obj)"
   ]
  },
  {
   "cell_type": "markdown",
   "id": "2d992898",
   "metadata": {},
   "source": [
    "## JSON形式のテキストデータをPythonの辞書に変換\n",
    "`json.loads()`を用いる"
   ]
  },
  {
   "cell_type": "code",
   "execution_count": 5,
   "id": "bafdfc72",
   "metadata": {},
   "outputs": [
    {
     "name": "stdout",
     "output_type": "stream",
     "text": [
      "{'item': 'apple', 'price': 120, 'is_fruit': True, 'state': None}\n",
      "apple\n"
     ]
    }
   ],
   "source": [
    "# JSON形式の文字列\n",
    "text = '{\"item\": \"apple\", \"price\": 120, \"is_fruit\": true, \"state\": null}'\n",
    "\n",
    "# Pythonの辞書型に変換\n",
    "obj = json.loads(text)\n",
    "print(obj)\n",
    "print(obj['item'])"
   ]
  },
  {
   "cell_type": "code",
   "execution_count": 6,
   "id": "6929e2b2",
   "metadata": {},
   "outputs": [
    {
     "name": "stdout",
     "output_type": "stream",
     "text": [
      "ab\"12\n"
     ]
    }
   ],
   "source": [
    "text = r'{\"id\": \"ab\\\"12\"}'\n",
    "\n",
    "obj = json.loads(text)\n",
    "print(obj['id'])"
   ]
  }
 ],
 "metadata": {
  "kernelspec": {
   "display_name": "Python 3 (ipykernel)",
   "language": "python",
   "name": "python3"
  },
  "language_info": {
   "codemirror_mode": {
    "name": "ipython",
    "version": 3
   },
   "file_extension": ".py",
   "mimetype": "text/x-python",
   "name": "python",
   "nbconvert_exporter": "python",
   "pygments_lexer": "ipython3",
   "version": "3.10.5"
  }
 },
 "nbformat": 4,
 "nbformat_minor": 5
}
